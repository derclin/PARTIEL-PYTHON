{
 "cells": [
  {
   "cell_type": "code",
   "execution_count": null,
   "id": "93f5b7aa",
   "metadata": {},
   "outputs": [],
   "source": [
    "#) Implémenter la fonction polynomiale\n",
    "# importation des packages\n",
    "\n",
    "import numpy as np\n",
    "import pandas as pd\n",
    "from math import sqrt\n"
   ]
  },
  {
   "cell_type": "code",
   "execution_count": 6,
   "id": "f945af36",
   "metadata": {},
   "outputs": [
    {
     "name": "stdout",
     "output_type": "stream",
     "text": [
      "le resultat est de : 62.5\n"
     ]
    }
   ],
   "source": [
    "print (\"le resultat est de :\",polynome(x))"
   ]
  },
  {
   "cell_type": "code",
   "execution_count": null,
   "id": "73d6cf01",
   "metadata": {},
   "outputs": [],
   "source": []
  },
  {
   "cell_type": "code",
   "execution_count": 9,
   "id": "1595fa35",
   "metadata": {},
   "outputs": [
    {
     "name": "stdout",
     "output_type": "stream",
     "text": [
      "entrer la variable x5\n"
     ]
    }
   ],
   "source": [
    "x=int(input(\"entrer la variable x\"))\n",
    "def polynome(x):\n",
    "    return x**3-1.5*x**2-6*x+5"
   ]
  },
  {
   "cell_type": "code",
   "execution_count": 10,
   "id": "0ef76cea",
   "metadata": {},
   "outputs": [
    {
     "name": "stdout",
     "output_type": "stream",
     "text": [
      "le resultat est de : 62.5\n"
     ]
    }
   ],
   "source": [
    "print(\"le resultat est de :\",polynome(x))"
   ]
  },
  {
   "cell_type": "code",
   "execution_count": null,
   "id": "5318a9bf",
   "metadata": {},
   "outputs": [],
   "source": [
    "#b) Implémenter la fonction factorielle"
   ]
  },
  {
   "cell_type": "code",
   "execution_count": 13,
   "id": "55d4ef2f",
   "metadata": {},
   "outputs": [
    {
     "name": "stdout",
     "output_type": "stream",
     "text": [
      "Entrez un nombre: 5\n",
      "Factorielle de 5 est:  120\n"
     ]
    }
   ],
   "source": [
    "def factorielle(n):\n",
    "    \"\"\"\"la fonction récursive trouve la factorielle du nombre donné\"\"\"\n",
    "    if n == 1:\n",
    "        return n\n",
    "    else:\n",
    "        return n * factorielle(n - 1)\n",
    "# Demande à l'utilisateur d'entrer un nombre\n",
    "n = int(input(\"Entrez un nombre: \"))\n",
    "if n < 0:\n",
    "    print(\"Factoriel ne peut être trouvé pour les nombres négatifs\")\n",
    "elif n == 0:\n",
    "    print(\"Factorielle de 0 est 1\")\n",
    "    \n",
    "else:\n",
    "  print(\"Factorielle de\", n, \"est: \", factorielle(n))\n",
    "    \n"
   ]
  },
  {
   "cell_type": "code",
   "execution_count": null,
   "id": "d4a1a6ce",
   "metadata": {},
   "outputs": [],
   "source": [
    "   #c) Implémenter la suite de Fibonnaci \n",
    "\"\"\"Python : Suite de Fibonacci. \"\"\"\n",
    "\n",
    "n = int(input(\"Entrer un entier supérieur à 1:\"))  #  Par exemple, 4\n",
    "\n",
    "\n",
    "fibo = [0]*(n)\n",
    "\n",
    "fibo[0] = 0\n",
    "\n",
    "fibo[1] = 1\n",
    "\n",
    "\n",
    "for i in range(2,n):\n",
    "\n",
    "  fibo[i] = fibo[i-1] + fibo[i-2]\n",
    "\n",
    "\n",
    "print(fibo)\n"
   ]
  },
  {
   "cell_type": "code",
   "execution_count": null,
   "id": "8e330398",
   "metadata": {},
   "outputs": [],
   "source": []
  }
 ],
 "metadata": {
  "kernelspec": {
   "display_name": "Python 3 (ipykernel)",
   "language": "python",
   "name": "python3"
  },
  "language_info": {
   "codemirror_mode": {
    "name": "ipython",
    "version": 3
   },
   "file_extension": ".py",
   "mimetype": "text/x-python",
   "name": "python",
   "nbconvert_exporter": "python",
   "pygments_lexer": "ipython3",
   "version": "3.9.7"
  }
 },
 "nbformat": 4,
 "nbformat_minor": 5
}
